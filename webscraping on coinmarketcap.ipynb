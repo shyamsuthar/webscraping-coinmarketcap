{
 "cells": [
  {
   "cell_type": "markdown",
   "id": "26494cd7",
   "metadata": {},
   "source": [
    "##  Use the requests library to download the web pages"
   ]
  },
  {
   "cell_type": "code",
   "execution_count": 6,
   "id": "d69b7983",
   "metadata": {},
   "outputs": [],
   "source": [
    "import requests\n"
   ]
  },
  {
   "cell_type": "code",
   "execution_count": 7,
   "id": "ea680a11",
   "metadata": {},
   "outputs": [],
   "source": [
    "url = \"https://coinmarketcap.com/\""
   ]
  },
  {
   "cell_type": "code",
   "execution_count": 8,
   "id": "ce4d4a17",
   "metadata": {},
   "outputs": [],
   "source": [
    "response = requests.get(url)"
   ]
  },
  {
   "cell_type": "code",
   "execution_count": 9,
   "id": "b964db17",
   "metadata": {},
   "outputs": [
    {
     "data": {
      "text/plain": [
       "200"
      ]
     },
     "execution_count": 9,
     "metadata": {},
     "output_type": "execute_result"
    }
   ],
   "source": [
    "response.status_code"
   ]
  },
  {
   "cell_type": "code",
   "execution_count": 10,
   "id": "15411a65",
   "metadata": {},
   "outputs": [
    {
     "data": {
      "text/plain": [
       "489797"
      ]
     },
     "execution_count": 10,
     "metadata": {},
     "output_type": "execute_result"
    }
   ],
   "source": [
    "len(response.text)"
   ]
  },
  {
   "cell_type": "code",
   "execution_count": 11,
   "id": "e32ce9c5",
   "metadata": {},
   "outputs": [],
   "source": [
    "page_contents = response.text"
   ]
  },
  {
   "cell_type": "code",
   "execution_count": 12,
   "id": "98b8716c",
   "metadata": {},
   "outputs": [
    {
     "data": {
      "text/plain": [
       "'<!DOCTYPE html><html lang=\"en\"><head><script crossorigin=\"anonymous\">\\n(function(c,u,v,n,p,e,z,A,w){function k(a){if(!x){x=!0;var l=u.getElementsByTagName(v)[0],d=u.createElement(v);d.src=A;d.crossOrigin=\"anonymous\";d.addEventListener(\"load\",function(){try{c[n]=r;c[p]=t;var b=c[e],d=b.init;b.init=function(a){for(var b in a)Object.prototype.hasOwnProperty.call(a,b)&&(w[b]=a[b]);d(w)};B(a,b)}catch(g){console.error(g)}});l.parentNode.insertBefore(d,l)}}function B(a,l){try{for(var d=m.data,b=0;b<a.length;b++)if(\"function\"===typeof a[b])a[b]();var e=!1,g=c.__SENTRY__;\"undefined\"!==\\ntypeof g&&g.hub&&g.hub.getClient()&&(e=!0);g=!1;for(b=0;b<d.length;b++)if(d[b].f){g=!0;var f=d[b];!1===e&&\"init\"!==f.f&&l.init();e=!0;l[f.f].apply(l,f.a)}!1===e&&!1===g&&l.init();var h=c[n],k=c[p];for(b=0;b<d.length;b++)d[b].e&&h?h.apply(c,d[b].e):d[b].p&&k&&k.apply(c,[d[b].p])}catch(C){console.error(C)}}for(var f=!0,y=!1,q=0;q<document.scripts.length;q++)if(-1<document.scripts[q].src.indexOf(z)){f=\"no\"!==document'"
      ]
     },
     "execution_count": 12,
     "metadata": {},
     "output_type": "execute_result"
    }
   ],
   "source": [
    "page_contents[:1000]"
   ]
  },
  {
   "cell_type": "code",
   "execution_count": 14,
   "id": "5198d350",
   "metadata": {},
   "outputs": [],
   "source": [
    "with open (\"webpage.html\",\"w\") as f:\n",
    "    f.write(page_contents)"
   ]
  },
  {
   "cell_type": "markdown",
   "id": "d5236750",
   "metadata": {},
   "source": [
    "## Use BeautifulSoup to parse and extract information"
   ]
  },
  {
   "cell_type": "code",
   "execution_count": 15,
   "id": "b81fecae",
   "metadata": {},
   "outputs": [],
   "source": [
    "from bs4 import BeautifulSoup"
   ]
  },
  {
   "cell_type": "code",
   "execution_count": 16,
   "id": "5530f891",
   "metadata": {},
   "outputs": [],
   "source": [
    "doc = BeautifulSoup(page_contents,\"html.parser\")"
   ]
  },
  {
   "cell_type": "code",
   "execution_count": 47,
   "id": "17a0ba30",
   "metadata": {},
   "outputs": [],
   "source": [
    "ticker_tags = doc.find_all(\"p\",class_ = \"sc-1eb5slv-0 iworPT\")"
   ]
  },
  {
   "cell_type": "code",
   "execution_count": 58,
   "id": "ed5e50b8",
   "metadata": {},
   "outputs": [
    {
     "data": {
      "text/plain": [
       "19"
      ]
     },
     "execution_count": 58,
     "metadata": {},
     "output_type": "execute_result"
    }
   ],
   "source": [
    " len(ticker_tags)"
   ]
  },
  {
   "cell_type": "code",
   "execution_count": 81,
   "id": "f7fd407e",
   "metadata": {},
   "outputs": [
    {
     "data": {
      "text/plain": [
       "'ShibaDoge'"
      ]
     },
     "execution_count": 81,
     "metadata": {},
     "output_type": "execute_result"
    }
   ],
   "source": [
    "ticker_tags[0].text"
   ]
  },
  {
   "cell_type": "code",
   "execution_count": 38,
   "id": "e455cdcf",
   "metadata": {},
   "outputs": [],
   "source": [
    "tick_price_tags = doc.find_all(\"div\",{\"class\":\"sc-131di3y-0 cLgOOr\"})"
   ]
  },
  {
   "cell_type": "code",
   "execution_count": 39,
   "id": "61f59712",
   "metadata": {},
   "outputs": [
    {
     "data": {
      "text/plain": [
       "13"
      ]
     },
     "execution_count": 39,
     "metadata": {},
     "output_type": "execute_result"
    }
   ],
   "source": [
    "len(tick_price_tags)"
   ]
  },
  {
   "cell_type": "code",
   "execution_count": 66,
   "id": "0de0d277",
   "metadata": {},
   "outputs": [
    {
     "data": {
      "text/plain": [
       "'$0.02846'"
      ]
     },
     "execution_count": 66,
     "metadata": {},
     "output_type": "execute_result"
    }
   ],
   "source": [
    "tick_price_tags[0].text"
   ]
  },
  {
   "cell_type": "code",
   "execution_count": 41,
   "id": "d58ab424",
   "metadata": {},
   "outputs": [],
   "source": [
    "market_cap = doc.find_all(\"span\",class_ = \"sc-1ow4cwt-0 iosgXe\")"
   ]
  },
  {
   "cell_type": "code",
   "execution_count": 42,
   "id": "cd2caa7f",
   "metadata": {},
   "outputs": [
    {
     "data": {
      "text/plain": [
       "10"
      ]
     },
     "execution_count": 42,
     "metadata": {},
     "output_type": "execute_result"
    }
   ],
   "source": [
    "len(market_cap)"
   ]
  },
  {
   "cell_type": "code",
   "execution_count": 65,
   "id": "ad39c0a9",
   "metadata": {},
   "outputs": [
    {
     "data": {
      "text/plain": [
       "'$785.20B'"
      ]
     },
     "execution_count": 65,
     "metadata": {},
     "output_type": "execute_result"
    }
   ],
   "source": [
    "market_cap[0].text"
   ]
  },
  {
   "cell_type": "code",
   "execution_count": 44,
   "id": "7c75878b",
   "metadata": {},
   "outputs": [],
   "source": [
    "volume_tag = doc.find_all(\"p\",class_ = \"sc-1eb5slv-0 hykWbK font_weight_500\")"
   ]
  },
  {
   "cell_type": "code",
   "execution_count": 45,
   "id": "cc14e580",
   "metadata": {},
   "outputs": [
    {
     "data": {
      "text/plain": [
       "10"
      ]
     },
     "execution_count": 45,
     "metadata": {},
     "output_type": "execute_result"
    }
   ],
   "source": [
    "len(volume_tag)"
   ]
  },
  {
   "cell_type": "code",
   "execution_count": 63,
   "id": "b7722934",
   "metadata": {},
   "outputs": [
    {
     "data": {
      "text/plain": [
       "'$27,269,683,098'"
      ]
     },
     "execution_count": 63,
     "metadata": {},
     "output_type": "execute_result"
    }
   ],
   "source": [
    "volume_tag[0]"
   ]
  },
  {
   "cell_type": "code",
   "execution_count": 68,
   "id": "9ff77f5f",
   "metadata": {},
   "outputs": [
    {
     "name": "stdout",
     "output_type": "stream",
     "text": [
      "['ShibaDoge', 'Secured Ship', 'Baby Floki Billionaire', 'Star Wars Cat', 'ASIX Token', 'Talent Token', 'ASIMI', 'Pudgy Pups Club', 'Gateway Protocol', 'Bitcoin', 'Ethereum', 'Tether', 'BNB', 'USD Coin', 'XRP', 'Terra', 'Solana', 'Cardano', 'Avalanche']\n"
     ]
    }
   ],
   "source": [
    "topic_titles = []\n",
    "for tag in ticker_tags:\n",
    "    topic_titles.append(tag.text)\n",
    "print(topic_titles)"
   ]
  },
  {
   "cell_type": "code",
   "execution_count": 72,
   "id": "b6db89c6",
   "metadata": {},
   "outputs": [
    {
     "name": "stdout",
     "output_type": "stream",
     "text": [
      "['$0.02846', '$0.000000000912', '$1.49', '$41,383.20', '$2,726.51', '$1.00', '$393.94', '$1', '$0.7375', '$92.68', '$91.65', '$0.8673', '$77.25']\n"
     ]
    }
   ],
   "source": [
    "topic_price = []\n",
    "\n",
    "for tag in tick_price_tags:\n",
    "    topic_price.append(tag.text)\n",
    "print(topic_price)"
   ]
  },
  {
   "cell_type": "code",
   "execution_count": 73,
   "id": "1dd0c16b",
   "metadata": {},
   "outputs": [
    {
     "name": "stdout",
     "output_type": "stream",
     "text": [
      "['$785.20B', '$326.68B', '$79.53B', '$65.05B', '$53.30B', '$35.36B', '$34.47B', '$29.38B', '$29.19B', '$20.49B']\n"
     ]
    }
   ],
   "source": [
    "market_capital=[]\n",
    "for tag in market_cap:\n",
    "    market_capital.append(tag.text)\n",
    "print(market_capital)"
   ]
  },
  {
   "cell_type": "code",
   "execution_count": 74,
   "id": "9bf90743",
   "metadata": {},
   "outputs": [
    {
     "name": "stdout",
     "output_type": "stream",
     "text": [
      "['$27,269,683,098', '$14,298,106,810', '$60,797,627,062', '$1,649,228,427', '$4,207,940,170', '$2,233,711,791', '$3,596,108,252', '$2,397,815,492', '$1,060,444,525', '$1,619,118,236']\n"
     ]
    }
   ],
   "source": [
    "volume_tags = []\n",
    "for tag in volume_tag:\n",
    "    volume_tags.append(tag.text)\n",
    "print(volume_tags)"
   ]
  },
  {
   "cell_type": "code",
   "execution_count": 75,
   "id": "328a942e",
   "metadata": {},
   "outputs": [],
   "source": [
    "import pandas as pd"
   ]
  },
  {
   "cell_type": "code",
   "execution_count": 85,
   "id": "70f88e9a",
   "metadata": {},
   "outputs": [],
   "source": [
    "a = {\n",
    "    \"title\": topic_titles,\n",
    "    \"price\": topic_price,\n",
    "    \"capital\": market_capital,\n",
    "    \"volume\" : volume_tags\n",
    "}"
   ]
  },
  {
   "cell_type": "code",
   "execution_count": 93,
   "id": "3c7f3da4",
   "metadata": {},
   "outputs": [],
   "source": [
    "df = pd.DataFrame.from_dict(a, orient = 'index')\n",
    "df = df.transpose()"
   ]
  },
  {
   "cell_type": "code",
   "execution_count": 94,
   "id": "09a443b4",
   "metadata": {},
   "outputs": [
    {
     "data": {
      "text/html": [
       "<div>\n",
       "<style scoped>\n",
       "    .dataframe tbody tr th:only-of-type {\n",
       "        vertical-align: middle;\n",
       "    }\n",
       "\n",
       "    .dataframe tbody tr th {\n",
       "        vertical-align: top;\n",
       "    }\n",
       "\n",
       "    .dataframe thead th {\n",
       "        text-align: right;\n",
       "    }\n",
       "</style>\n",
       "<table border=\"1\" class=\"dataframe\">\n",
       "  <thead>\n",
       "    <tr style=\"text-align: right;\">\n",
       "      <th></th>\n",
       "      <th>title</th>\n",
       "      <th>price</th>\n",
       "      <th>capital</th>\n",
       "      <th>volume</th>\n",
       "    </tr>\n",
       "  </thead>\n",
       "  <tbody>\n",
       "    <tr>\n",
       "      <th>0</th>\n",
       "      <td>ShibaDoge</td>\n",
       "      <td>$0.02846</td>\n",
       "      <td>$785.20B</td>\n",
       "      <td>$27,269,683,098</td>\n",
       "    </tr>\n",
       "    <tr>\n",
       "      <th>1</th>\n",
       "      <td>Secured Ship</td>\n",
       "      <td>$0.000000000912</td>\n",
       "      <td>$326.68B</td>\n",
       "      <td>$14,298,106,810</td>\n",
       "    </tr>\n",
       "    <tr>\n",
       "      <th>2</th>\n",
       "      <td>Baby Floki Billionaire</td>\n",
       "      <td>$1.49</td>\n",
       "      <td>$79.53B</td>\n",
       "      <td>$60,797,627,062</td>\n",
       "    </tr>\n",
       "    <tr>\n",
       "      <th>3</th>\n",
       "      <td>Star Wars Cat</td>\n",
       "      <td>$41,383.20</td>\n",
       "      <td>$65.05B</td>\n",
       "      <td>$1,649,228,427</td>\n",
       "    </tr>\n",
       "    <tr>\n",
       "      <th>4</th>\n",
       "      <td>ASIX Token</td>\n",
       "      <td>$2,726.51</td>\n",
       "      <td>$53.30B</td>\n",
       "      <td>$4,207,940,170</td>\n",
       "    </tr>\n",
       "    <tr>\n",
       "      <th>5</th>\n",
       "      <td>Talent Token</td>\n",
       "      <td>$1.00</td>\n",
       "      <td>$35.36B</td>\n",
       "      <td>$2,233,711,791</td>\n",
       "    </tr>\n",
       "    <tr>\n",
       "      <th>6</th>\n",
       "      <td>ASIMI</td>\n",
       "      <td>$393.94</td>\n",
       "      <td>$34.47B</td>\n",
       "      <td>$3,596,108,252</td>\n",
       "    </tr>\n",
       "    <tr>\n",
       "      <th>7</th>\n",
       "      <td>Pudgy Pups Club</td>\n",
       "      <td>$1</td>\n",
       "      <td>$29.38B</td>\n",
       "      <td>$2,397,815,492</td>\n",
       "    </tr>\n",
       "    <tr>\n",
       "      <th>8</th>\n",
       "      <td>Gateway Protocol</td>\n",
       "      <td>$0.7375</td>\n",
       "      <td>$29.19B</td>\n",
       "      <td>$1,060,444,525</td>\n",
       "    </tr>\n",
       "    <tr>\n",
       "      <th>9</th>\n",
       "      <td>Bitcoin</td>\n",
       "      <td>$92.68</td>\n",
       "      <td>$20.49B</td>\n",
       "      <td>$1,619,118,236</td>\n",
       "    </tr>\n",
       "    <tr>\n",
       "      <th>10</th>\n",
       "      <td>Ethereum</td>\n",
       "      <td>$91.65</td>\n",
       "      <td>None</td>\n",
       "      <td>None</td>\n",
       "    </tr>\n",
       "    <tr>\n",
       "      <th>11</th>\n",
       "      <td>Tether</td>\n",
       "      <td>$0.8673</td>\n",
       "      <td>None</td>\n",
       "      <td>None</td>\n",
       "    </tr>\n",
       "    <tr>\n",
       "      <th>12</th>\n",
       "      <td>BNB</td>\n",
       "      <td>$77.25</td>\n",
       "      <td>None</td>\n",
       "      <td>None</td>\n",
       "    </tr>\n",
       "    <tr>\n",
       "      <th>13</th>\n",
       "      <td>USD Coin</td>\n",
       "      <td>None</td>\n",
       "      <td>None</td>\n",
       "      <td>None</td>\n",
       "    </tr>\n",
       "    <tr>\n",
       "      <th>14</th>\n",
       "      <td>XRP</td>\n",
       "      <td>None</td>\n",
       "      <td>None</td>\n",
       "      <td>None</td>\n",
       "    </tr>\n",
       "    <tr>\n",
       "      <th>15</th>\n",
       "      <td>Terra</td>\n",
       "      <td>None</td>\n",
       "      <td>None</td>\n",
       "      <td>None</td>\n",
       "    </tr>\n",
       "    <tr>\n",
       "      <th>16</th>\n",
       "      <td>Solana</td>\n",
       "      <td>None</td>\n",
       "      <td>None</td>\n",
       "      <td>None</td>\n",
       "    </tr>\n",
       "    <tr>\n",
       "      <th>17</th>\n",
       "      <td>Cardano</td>\n",
       "      <td>None</td>\n",
       "      <td>None</td>\n",
       "      <td>None</td>\n",
       "    </tr>\n",
       "    <tr>\n",
       "      <th>18</th>\n",
       "      <td>Avalanche</td>\n",
       "      <td>None</td>\n",
       "      <td>None</td>\n",
       "      <td>None</td>\n",
       "    </tr>\n",
       "  </tbody>\n",
       "</table>\n",
       "</div>"
      ],
      "text/plain": [
       "                     title            price   capital           volume\n",
       "0                ShibaDoge         $0.02846  $785.20B  $27,269,683,098\n",
       "1             Secured Ship  $0.000000000912  $326.68B  $14,298,106,810\n",
       "2   Baby Floki Billionaire            $1.49   $79.53B  $60,797,627,062\n",
       "3            Star Wars Cat       $41,383.20   $65.05B   $1,649,228,427\n",
       "4               ASIX Token        $2,726.51   $53.30B   $4,207,940,170\n",
       "5             Talent Token            $1.00   $35.36B   $2,233,711,791\n",
       "6                    ASIMI          $393.94   $34.47B   $3,596,108,252\n",
       "7          Pudgy Pups Club               $1   $29.38B   $2,397,815,492\n",
       "8         Gateway Protocol          $0.7375   $29.19B   $1,060,444,525\n",
       "9                  Bitcoin           $92.68   $20.49B   $1,619,118,236\n",
       "10                Ethereum           $91.65      None             None\n",
       "11                  Tether          $0.8673      None             None\n",
       "12                     BNB           $77.25      None             None\n",
       "13                USD Coin             None      None             None\n",
       "14                     XRP             None      None             None\n",
       "15                   Terra             None      None             None\n",
       "16                  Solana             None      None             None\n",
       "17                 Cardano             None      None             None\n",
       "18               Avalanche             None      None             None"
      ]
     },
     "execution_count": 94,
     "metadata": {},
     "output_type": "execute_result"
    }
   ],
   "source": [
    "df"
   ]
  },
  {
   "cell_type": "markdown",
   "id": "ebe1f53f",
   "metadata": {},
   "source": [
    "## Create a csv file(s) with the extracted information"
   ]
  },
  {
   "cell_type": "code",
   "execution_count": 95,
   "id": "88038bd0",
   "metadata": {},
   "outputs": [],
   "source": [
    "df.to_csv(\"coinmarketcap.csv\",index = None)"
   ]
  },
  {
   "cell_type": "code",
   "execution_count": null,
   "id": "d76f4e01",
   "metadata": {},
   "outputs": [],
   "source": [
    "\n",
    "    "
   ]
  },
  {
   "cell_type": "markdown",
   "id": "1092eec1",
   "metadata": {},
   "source": [
    "## write a single function to  :\n",
    "1. get the list of coins from the page\n",
    "2. get the information from the page \n",
    "3. create a csv file of the info"
   ]
  },
  {
   "cell_type": "code",
   "execution_count": 107,
   "id": "3660b3c6",
   "metadata": {},
   "outputs": [],
   "source": [
    "def topics_title(doc):\n",
    "    ticker_tags = doc.find_all(\"p\",class_ = \"sc-1eb5slv-0 iworPT\")\n",
    "    topic_titles = []\n",
    "    for tag in ticker_tags:\n",
    "        topic_titles.append(tag.text)\n",
    "    print(topic_titles)\n",
    "    return topic_titles\n",
    "\n",
    "def topic_price(doc):\n",
    "    tick_price_tags = doc.find_all(\"div\",{\"class\":\"sc-131di3y-0 cLgOOr\"})\n",
    "    topic_price = []\n",
    "    for tag in tick_price_tags:\n",
    "        topic_price.append(tag.text)\n",
    "    print(topic_price)\n",
    "    return topic_price\n",
    "\n",
    "\n",
    "def topic_capital(doc):\n",
    "    market_cap = doc.find_all(\"span\",class_ = \"sc-1ow4cwt-0 iosgXe\")\n",
    "    market_capital=[]\n",
    "    for tag in market_cap:\n",
    "        market_capital.append(tag.text)\n",
    "    print(market_capital)\n",
    "    return market_capital\n",
    "\n",
    "def topic_volume(doc):\n",
    "    volume_tag = doc.find_all(\"p\",class_ = \"sc-1eb5slv-0 hykWbK font_weight_500\")\n",
    "    volume_tags = []\n",
    "    for tag in volume_tag:\n",
    "        volume_tags.append(tag.text)\n",
    "    print(volume_tags)\n",
    "    return volume_tags\n",
    "\n",
    "\n",
    "def scrape_info():\n",
    "    url = \"https://coinmarketcap.com/\"\n",
    "    response = requests.get(url)\n",
    "    if response.status_code != 200:\n",
    "        raise Exception('Failed to load page{}'.format(url))\n",
    "    topic_dict = {\n",
    "         \"title\": topics_title(doc),\n",
    "         \"price\": topic_price(doc),\n",
    "         \"capital\": topic_capital(doc),\n",
    "         \"volume\" : topic_volume(doc)  \n",
    "    }\n",
    "    return pd.DataFrame.from_dict(a, orient = 'index')"
   ]
  },
  {
   "cell_type": "code",
   "execution_count": 104,
   "id": "0ea5ce6f",
   "metadata": {},
   "outputs": [
    {
     "name": "stdout",
     "output_type": "stream",
     "text": [
      "['ShibaDoge', 'Secured Ship', 'Baby Floki Billionaire', 'Star Wars Cat', 'ASIX Token', 'Talent Token', 'ASIMI', 'Pudgy Pups Club', 'Gateway Protocol', 'Bitcoin', 'Ethereum', 'Tether', 'BNB', 'USD Coin', 'XRP', 'Terra', 'Solana', 'Cardano', 'Avalanche']\n",
      "['$0.02846', '$0.000000000912', '$1.49', '$41,383.20', '$2,726.51', '$1.00', '$393.94', '$1', '$0.7375', '$92.68', '$91.65', '$0.8673', '$77.25']\n",
      "['$785.20B', '$326.68B', '$79.53B', '$65.05B', '$53.30B', '$35.36B', '$34.47B', '$29.38B', '$29.19B', '$20.49B']\n",
      "['$27,269,683,098', '$14,298,106,810', '$60,797,627,062', '$1,649,228,427', '$4,207,940,170', '$2,233,711,791', '$3,596,108,252', '$2,397,815,492', '$1,060,444,525', '$1,619,118,236']\n"
     ]
    },
    {
     "data": {
      "text/html": [
       "<div>\n",
       "<style scoped>\n",
       "    .dataframe tbody tr th:only-of-type {\n",
       "        vertical-align: middle;\n",
       "    }\n",
       "\n",
       "    .dataframe tbody tr th {\n",
       "        vertical-align: top;\n",
       "    }\n",
       "\n",
       "    .dataframe thead th {\n",
       "        text-align: right;\n",
       "    }\n",
       "</style>\n",
       "<table border=\"1\" class=\"dataframe\">\n",
       "  <thead>\n",
       "    <tr style=\"text-align: right;\">\n",
       "      <th></th>\n",
       "      <th>0</th>\n",
       "      <th>1</th>\n",
       "      <th>2</th>\n",
       "      <th>3</th>\n",
       "      <th>4</th>\n",
       "      <th>5</th>\n",
       "      <th>6</th>\n",
       "      <th>7</th>\n",
       "      <th>8</th>\n",
       "      <th>9</th>\n",
       "      <th>10</th>\n",
       "      <th>11</th>\n",
       "      <th>12</th>\n",
       "      <th>13</th>\n",
       "      <th>14</th>\n",
       "      <th>15</th>\n",
       "      <th>16</th>\n",
       "      <th>17</th>\n",
       "      <th>18</th>\n",
       "    </tr>\n",
       "  </thead>\n",
       "  <tbody>\n",
       "    <tr>\n",
       "      <th>title</th>\n",
       "      <td>ShibaDoge</td>\n",
       "      <td>Secured Ship</td>\n",
       "      <td>Baby Floki Billionaire</td>\n",
       "      <td>Star Wars Cat</td>\n",
       "      <td>ASIX Token</td>\n",
       "      <td>Talent Token</td>\n",
       "      <td>ASIMI</td>\n",
       "      <td>Pudgy Pups Club</td>\n",
       "      <td>Gateway Protocol</td>\n",
       "      <td>Bitcoin</td>\n",
       "      <td>Ethereum</td>\n",
       "      <td>Tether</td>\n",
       "      <td>BNB</td>\n",
       "      <td>USD Coin</td>\n",
       "      <td>XRP</td>\n",
       "      <td>Terra</td>\n",
       "      <td>Solana</td>\n",
       "      <td>Cardano</td>\n",
       "      <td>Avalanche</td>\n",
       "    </tr>\n",
       "    <tr>\n",
       "      <th>price</th>\n",
       "      <td>$0.02846</td>\n",
       "      <td>$0.000000000912</td>\n",
       "      <td>$1.49</td>\n",
       "      <td>$41,383.20</td>\n",
       "      <td>$2,726.51</td>\n",
       "      <td>$1.00</td>\n",
       "      <td>$393.94</td>\n",
       "      <td>$1</td>\n",
       "      <td>$0.7375</td>\n",
       "      <td>$92.68</td>\n",
       "      <td>$91.65</td>\n",
       "      <td>$0.8673</td>\n",
       "      <td>$77.25</td>\n",
       "      <td>None</td>\n",
       "      <td>None</td>\n",
       "      <td>None</td>\n",
       "      <td>None</td>\n",
       "      <td>None</td>\n",
       "      <td>None</td>\n",
       "    </tr>\n",
       "    <tr>\n",
       "      <th>capital</th>\n",
       "      <td>$785.20B</td>\n",
       "      <td>$326.68B</td>\n",
       "      <td>$79.53B</td>\n",
       "      <td>$65.05B</td>\n",
       "      <td>$53.30B</td>\n",
       "      <td>$35.36B</td>\n",
       "      <td>$34.47B</td>\n",
       "      <td>$29.38B</td>\n",
       "      <td>$29.19B</td>\n",
       "      <td>$20.49B</td>\n",
       "      <td>None</td>\n",
       "      <td>None</td>\n",
       "      <td>None</td>\n",
       "      <td>None</td>\n",
       "      <td>None</td>\n",
       "      <td>None</td>\n",
       "      <td>None</td>\n",
       "      <td>None</td>\n",
       "      <td>None</td>\n",
       "    </tr>\n",
       "    <tr>\n",
       "      <th>volume</th>\n",
       "      <td>$27,269,683,098</td>\n",
       "      <td>$14,298,106,810</td>\n",
       "      <td>$60,797,627,062</td>\n",
       "      <td>$1,649,228,427</td>\n",
       "      <td>$4,207,940,170</td>\n",
       "      <td>$2,233,711,791</td>\n",
       "      <td>$3,596,108,252</td>\n",
       "      <td>$2,397,815,492</td>\n",
       "      <td>$1,060,444,525</td>\n",
       "      <td>$1,619,118,236</td>\n",
       "      <td>None</td>\n",
       "      <td>None</td>\n",
       "      <td>None</td>\n",
       "      <td>None</td>\n",
       "      <td>None</td>\n",
       "      <td>None</td>\n",
       "      <td>None</td>\n",
       "      <td>None</td>\n",
       "      <td>None</td>\n",
       "    </tr>\n",
       "  </tbody>\n",
       "</table>\n",
       "</div>"
      ],
      "text/plain": [
       "                      0                1                       2   \\\n",
       "title          ShibaDoge     Secured Ship  Baby Floki Billionaire   \n",
       "price           $0.02846  $0.000000000912                   $1.49   \n",
       "capital         $785.20B         $326.68B                 $79.53B   \n",
       "volume   $27,269,683,098  $14,298,106,810         $60,797,627,062   \n",
       "\n",
       "                     3               4               5               6   \\\n",
       "title     Star Wars Cat      ASIX Token    Talent Token           ASIMI   \n",
       "price        $41,383.20       $2,726.51           $1.00         $393.94   \n",
       "capital         $65.05B         $53.30B         $35.36B         $34.47B   \n",
       "volume   $1,649,228,427  $4,207,940,170  $2,233,711,791  $3,596,108,252   \n",
       "\n",
       "                      7                 8               9         10       11  \\\n",
       "title    Pudgy Pups Club  Gateway Protocol         Bitcoin  Ethereum   Tether   \n",
       "price                 $1           $0.7375          $92.68    $91.65  $0.8673   \n",
       "capital          $29.38B           $29.19B         $20.49B      None     None   \n",
       "volume    $2,397,815,492    $1,060,444,525  $1,619,118,236      None     None   \n",
       "\n",
       "             12        13    14     15      16       17         18  \n",
       "title       BNB  USD Coin   XRP  Terra  Solana  Cardano  Avalanche  \n",
       "price    $77.25      None  None   None    None     None       None  \n",
       "capital    None      None  None   None    None     None       None  \n",
       "volume     None      None  None   None    None     None       None  "
      ]
     },
     "execution_count": 104,
     "metadata": {},
     "output_type": "execute_result"
    }
   ],
   "source": [
    "scrape_info()\n"
   ]
  },
  {
   "cell_type": "code",
   "execution_count": 109,
   "id": "5510ad42",
   "metadata": {},
   "outputs": [
    {
     "name": "stdout",
     "output_type": "stream",
     "text": [
      "ShibaDoge $0.02846\n",
      "Secured Ship $0.000000000912\n",
      "Baby Floki Billionaire $1.49\n",
      "Star Wars Cat $41,383.20\n",
      "ASIX Token $2,726.51\n",
      "Talent Token $1.00\n",
      "ASIMI $393.94\n",
      "Pudgy Pups Club $1\n",
      "Gateway Protocol $0.7375\n",
      "Bitcoin $92.68\n",
      "Ethereum $91.65\n",
      "Tether $0.8673\n",
      "BNB $77.25\n",
      "USD Coin None\n",
      "XRP None\n",
      "Terra None\n",
      "Solana None\n",
      "Cardano None\n",
      "Avalanche None\n"
     ]
    }
   ],
   "source": [
    "for index ,row in df.iterrows():\n",
    "    print(row[0],row[1])"
   ]
  },
  {
   "cell_type": "code",
   "execution_count": null,
   "id": "fa10604e",
   "metadata": {},
   "outputs": [],
   "source": []
  }
 ],
 "metadata": {
  "kernelspec": {
   "display_name": "Python 3 (ipykernel)",
   "language": "python",
   "name": "python3"
  },
  "language_info": {
   "codemirror_mode": {
    "name": "ipython",
    "version": 3
   },
   "file_extension": ".py",
   "mimetype": "text/x-python",
   "name": "python",
   "nbconvert_exporter": "python",
   "pygments_lexer": "ipython3",
   "version": "3.9.7"
  }
 },
 "nbformat": 4,
 "nbformat_minor": 5
}
